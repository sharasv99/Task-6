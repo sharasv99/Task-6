{
  "cells": [
    {
      "cell_type": "markdown",
      "metadata": {
        "id": "o8dvhtF_Oiew"
      },
      "source": [
        "# Assignment8"
      ]
    },
    {
      "cell_type": "code",
      "execution_count": 1,
      "metadata": {
        "collapsed": true,
        "id": "0tZZPCtuOiez"
      },
      "outputs": [],
      "source": [
        "import pandas as pd\n",
        "import matplotlib.pyplot as plt\n",
        "import numpy as np\n",
        "from sklearn import linear_model"
      ]
    },
    {
      "cell_type": "markdown",
      "metadata": {
        "id": "HusQ-PP3Oie0"
      },
      "source": [
        "# How Much is Your Car Worth?\n",
        "\n",
        "Data about the retail price of 2005 General Motors cars can be found in `car_data.csv`.\n",
        "\n",
        "The columns are:\n",
        "\n",
        "1. Price: suggested retail price of the used 2005 GM car in excellent condition.\n",
        "2. Mileage: number of miles the car has been driven\n",
        "3. Make: manufacturer of the car such as Saturn, Pontiac, and Chevrolet\n",
        "4. Model: specific models for each car manufacturer such as Ion, Vibe, Cavalier\n",
        "5. Trim (of car): specific type of car model such as SE Sedan 4D, Quad Coupe 2D          \n",
        "6. Type: body type such as sedan, coupe, etc.      \n",
        "7. Cylinder: number of cylinders in the engine        \n",
        "8. Liter: a more specific measure of engine size     \n",
        "9. Doors: number of doors           \n",
        "10. Cruise: indicator variable representing whether the car has cruise control (1 = cruise)\n",
        "11. Sound: indicator variable representing whether the car has upgraded speakers (1 = upgraded)\n",
        "12. Leather: indicator variable representing whether the car has leather seats (1 = leather)\n",
        "\n",
        "## Tasks, Part 1\n",
        "\n",
        "1. Find the linear regression equation for mileage vs price.\n",
        "2. Chart the original data and the equation on the chart.\n",
        "3. Find the equation's $R^2$ score (use the `.score` method) to determine whether the\n",
        "equation is a good fit for this data. (0.8 and greater is considered a strong correlation.)\n",
        "\n",
        "## Tasks, Part 2\n",
        "\n",
        "1. Use mileage, cylinders, liters, doors, cruise, sound, and leather to find the linear regression equation.\n",
        "2. Find the equation's $R^2$ score (use the `.score` method) to determine whether the\n",
        "equation is a good fit for this data. (0.8 and greater is considered a strong correlation.)\n",
        "3. Find the combination of the factors that is the best predictor for price.\n",
        "\n",
        "## Tasks, Hard Mode\n",
        "\n",
        "1. Research dummy variables in scikit-learn to see how to use the make, model, and body type.\n",
        "2. Find the best combination of factors to predict price."
      ]
    },
    {
      "cell_type": "code",
      "execution_count": 4,
      "metadata": {
        "id": "Un4dfvZ0Oie1"
      },
      "outputs": [],
      "source": [
        "df = pd.read_csv(\"car_data.csv\")"
      ]
    },
    {
      "cell_type": "code",
      "source": [
        "df.head()"
      ],
      "metadata": {
        "id": "2SnLhVPpQBZ4",
        "outputId": "07d2f0fe-f7f4-44a1-d73d-a282ef858ed1",
        "colab": {
          "base_uri": "https://localhost:8080/",
          "height": 357
        }
      },
      "execution_count": 5,
      "outputs": [
        {
          "output_type": "execute_result",
          "data": {
            "text/plain": [
              "          Price  Mileage   Make    Model      Trim   Type  Cylinder  Liter  \\\n",
              "0  17314.103129     8221  Buick  Century  Sedan 4D  Sedan         6    3.1   \n",
              "1  17542.036083     9135  Buick  Century  Sedan 4D  Sedan         6    3.1   \n",
              "2  16218.847862    13196  Buick  Century  Sedan 4D  Sedan         6    3.1   \n",
              "3  16336.913140    16342  Buick  Century  Sedan 4D  Sedan         6    3.1   \n",
              "4  16339.170324    19832  Buick  Century  Sedan 4D  Sedan         6    3.1   \n",
              "\n",
              "   Doors  Cruise  Sound  Leather  \n",
              "0      4       1      1        1  \n",
              "1      4       1      1        0  \n",
              "2      4       1      1        0  \n",
              "3      4       1      0        0  \n",
              "4      4       1      0        1  "
            ],
            "text/html": [
              "\n",
              "  <div id=\"df-17d801b5-d4c7-43da-a708-b96b1a6254c5\">\n",
              "    <div class=\"colab-df-container\">\n",
              "      <div>\n",
              "<style scoped>\n",
              "    .dataframe tbody tr th:only-of-type {\n",
              "        vertical-align: middle;\n",
              "    }\n",
              "\n",
              "    .dataframe tbody tr th {\n",
              "        vertical-align: top;\n",
              "    }\n",
              "\n",
              "    .dataframe thead th {\n",
              "        text-align: right;\n",
              "    }\n",
              "</style>\n",
              "<table border=\"1\" class=\"dataframe\">\n",
              "  <thead>\n",
              "    <tr style=\"text-align: right;\">\n",
              "      <th></th>\n",
              "      <th>Price</th>\n",
              "      <th>Mileage</th>\n",
              "      <th>Make</th>\n",
              "      <th>Model</th>\n",
              "      <th>Trim</th>\n",
              "      <th>Type</th>\n",
              "      <th>Cylinder</th>\n",
              "      <th>Liter</th>\n",
              "      <th>Doors</th>\n",
              "      <th>Cruise</th>\n",
              "      <th>Sound</th>\n",
              "      <th>Leather</th>\n",
              "    </tr>\n",
              "  </thead>\n",
              "  <tbody>\n",
              "    <tr>\n",
              "      <th>0</th>\n",
              "      <td>17314.103129</td>\n",
              "      <td>8221</td>\n",
              "      <td>Buick</td>\n",
              "      <td>Century</td>\n",
              "      <td>Sedan 4D</td>\n",
              "      <td>Sedan</td>\n",
              "      <td>6</td>\n",
              "      <td>3.1</td>\n",
              "      <td>4</td>\n",
              "      <td>1</td>\n",
              "      <td>1</td>\n",
              "      <td>1</td>\n",
              "    </tr>\n",
              "    <tr>\n",
              "      <th>1</th>\n",
              "      <td>17542.036083</td>\n",
              "      <td>9135</td>\n",
              "      <td>Buick</td>\n",
              "      <td>Century</td>\n",
              "      <td>Sedan 4D</td>\n",
              "      <td>Sedan</td>\n",
              "      <td>6</td>\n",
              "      <td>3.1</td>\n",
              "      <td>4</td>\n",
              "      <td>1</td>\n",
              "      <td>1</td>\n",
              "      <td>0</td>\n",
              "    </tr>\n",
              "    <tr>\n",
              "      <th>2</th>\n",
              "      <td>16218.847862</td>\n",
              "      <td>13196</td>\n",
              "      <td>Buick</td>\n",
              "      <td>Century</td>\n",
              "      <td>Sedan 4D</td>\n",
              "      <td>Sedan</td>\n",
              "      <td>6</td>\n",
              "      <td>3.1</td>\n",
              "      <td>4</td>\n",
              "      <td>1</td>\n",
              "      <td>1</td>\n",
              "      <td>0</td>\n",
              "    </tr>\n",
              "    <tr>\n",
              "      <th>3</th>\n",
              "      <td>16336.913140</td>\n",
              "      <td>16342</td>\n",
              "      <td>Buick</td>\n",
              "      <td>Century</td>\n",
              "      <td>Sedan 4D</td>\n",
              "      <td>Sedan</td>\n",
              "      <td>6</td>\n",
              "      <td>3.1</td>\n",
              "      <td>4</td>\n",
              "      <td>1</td>\n",
              "      <td>0</td>\n",
              "      <td>0</td>\n",
              "    </tr>\n",
              "    <tr>\n",
              "      <th>4</th>\n",
              "      <td>16339.170324</td>\n",
              "      <td>19832</td>\n",
              "      <td>Buick</td>\n",
              "      <td>Century</td>\n",
              "      <td>Sedan 4D</td>\n",
              "      <td>Sedan</td>\n",
              "      <td>6</td>\n",
              "      <td>3.1</td>\n",
              "      <td>4</td>\n",
              "      <td>1</td>\n",
              "      <td>0</td>\n",
              "      <td>1</td>\n",
              "    </tr>\n",
              "  </tbody>\n",
              "</table>\n",
              "</div>\n",
              "      <button class=\"colab-df-convert\" onclick=\"convertToInteractive('df-17d801b5-d4c7-43da-a708-b96b1a6254c5')\"\n",
              "              title=\"Convert this dataframe to an interactive table.\"\n",
              "              style=\"display:none;\">\n",
              "        \n",
              "  <svg xmlns=\"http://www.w3.org/2000/svg\" height=\"24px\"viewBox=\"0 0 24 24\"\n",
              "       width=\"24px\">\n",
              "    <path d=\"M0 0h24v24H0V0z\" fill=\"none\"/>\n",
              "    <path d=\"M18.56 5.44l.94 2.06.94-2.06 2.06-.94-2.06-.94-.94-2.06-.94 2.06-2.06.94zm-11 1L8.5 8.5l.94-2.06 2.06-.94-2.06-.94L8.5 2.5l-.94 2.06-2.06.94zm10 10l.94 2.06.94-2.06 2.06-.94-2.06-.94-.94-2.06-.94 2.06-2.06.94z\"/><path d=\"M17.41 7.96l-1.37-1.37c-.4-.4-.92-.59-1.43-.59-.52 0-1.04.2-1.43.59L10.3 9.45l-7.72 7.72c-.78.78-.78 2.05 0 2.83L4 21.41c.39.39.9.59 1.41.59.51 0 1.02-.2 1.41-.59l7.78-7.78 2.81-2.81c.8-.78.8-2.07 0-2.86zM5.41 20L4 18.59l7.72-7.72 1.47 1.35L5.41 20z\"/>\n",
              "  </svg>\n",
              "      </button>\n",
              "      \n",
              "  <style>\n",
              "    .colab-df-container {\n",
              "      display:flex;\n",
              "      flex-wrap:wrap;\n",
              "      gap: 12px;\n",
              "    }\n",
              "\n",
              "    .colab-df-convert {\n",
              "      background-color: #E8F0FE;\n",
              "      border: none;\n",
              "      border-radius: 50%;\n",
              "      cursor: pointer;\n",
              "      display: none;\n",
              "      fill: #1967D2;\n",
              "      height: 32px;\n",
              "      padding: 0 0 0 0;\n",
              "      width: 32px;\n",
              "    }\n",
              "\n",
              "    .colab-df-convert:hover {\n",
              "      background-color: #E2EBFA;\n",
              "      box-shadow: 0px 1px 2px rgba(60, 64, 67, 0.3), 0px 1px 3px 1px rgba(60, 64, 67, 0.15);\n",
              "      fill: #174EA6;\n",
              "    }\n",
              "\n",
              "    [theme=dark] .colab-df-convert {\n",
              "      background-color: #3B4455;\n",
              "      fill: #D2E3FC;\n",
              "    }\n",
              "\n",
              "    [theme=dark] .colab-df-convert:hover {\n",
              "      background-color: #434B5C;\n",
              "      box-shadow: 0px 1px 3px 1px rgba(0, 0, 0, 0.15);\n",
              "      filter: drop-shadow(0px 1px 2px rgba(0, 0, 0, 0.3));\n",
              "      fill: #FFFFFF;\n",
              "    }\n",
              "  </style>\n",
              "\n",
              "      <script>\n",
              "        const buttonEl =\n",
              "          document.querySelector('#df-17d801b5-d4c7-43da-a708-b96b1a6254c5 button.colab-df-convert');\n",
              "        buttonEl.style.display =\n",
              "          google.colab.kernel.accessAllowed ? 'block' : 'none';\n",
              "\n",
              "        async function convertToInteractive(key) {\n",
              "          const element = document.querySelector('#df-17d801b5-d4c7-43da-a708-b96b1a6254c5');\n",
              "          const dataTable =\n",
              "            await google.colab.kernel.invokeFunction('convertToInteractive',\n",
              "                                                     [key], {});\n",
              "          if (!dataTable) return;\n",
              "\n",
              "          const docLinkHtml = 'Like what you see? Visit the ' +\n",
              "            '<a target=\"_blank\" href=https://colab.research.google.com/notebooks/data_table.ipynb>data table notebook</a>'\n",
              "            + ' to learn more about interactive tables.';\n",
              "          element.innerHTML = '';\n",
              "          dataTable['output_type'] = 'display_data';\n",
              "          await google.colab.output.renderOutput(dataTable, element);\n",
              "          const docLink = document.createElement('div');\n",
              "          docLink.innerHTML = docLinkHtml;\n",
              "          element.appendChild(docLink);\n",
              "        }\n",
              "      </script>\n",
              "    </div>\n",
              "  </div>\n",
              "  "
            ]
          },
          "metadata": {},
          "execution_count": 5
        }
      ]
    },
    {
      "cell_type": "code",
      "source": [
        "linreg = linear_model.LinearRegression()\n",
        "mileage = df[['Mileage']]\n",
        "price = df['Price']\n",
        "linreg.fit(mileage, price)\n",
        "print('{} * Price + {:.2f}'.format(linreg.coef_[0], linreg.intercept_))"
      ],
      "metadata": {
        "id": "sxYXhauhQB0p",
        "outputId": "94afe124-4d1b-40ed-bf44-3b4d5b43a191",
        "colab": {
          "base_uri": "https://localhost:8080/"
        }
      },
      "execution_count": 8,
      "outputs": [
        {
          "output_type": "stream",
          "name": "stdout",
          "text": [
            "-0.1725205027912493 * Price + 24764.56\n"
          ]
        }
      ]
    },
    {
      "cell_type": "code",
      "source": [
        "plt.scatter(x=mileage, y=price)\n",
        "plt.plot(mileage, linreg.predict(mileage))\n",
        "plt.title('Mileage vs Price')\n",
        "plt.xlabel('Mileage')\n",
        "plt.ylabel('Price')\n",
        "plt.show()"
      ],
      "metadata": {
        "id": "sWrmX9wiQCKa",
        "outputId": "0ffbdd0a-5b34-4688-b904-b8a56c429482",
        "colab": {
          "base_uri": "https://localhost:8080/",
          "height": 295
        }
      },
      "execution_count": 12,
      "outputs": [
        {
          "output_type": "display_data",
          "data": {
            "text/plain": [
              "<Figure size 432x288 with 1 Axes>"
            ],
            "image/png": "[encoded data removed]"
          },
          "metadata": {
            "needs_background": "light"
          }
        }
      ]
    },
    {
      "cell_type": "code",
      "source": [
        "print('R^2: {:.5f}'\n",
        "      .format(linreg.score(mileage, price)))"
      ],
      "metadata": {
        "id": "Tmej_38xQCZ0",
        "outputId": "cb76c872-b1a6-411e-bedd-f5d81e3779eb",
        "colab": {
          "base_uri": "https://localhost:8080/"
        }
      },
      "execution_count": 13,
      "outputs": [
        {
          "output_type": "stream",
          "name": "stdout",
          "text": [
            "R^2: 0.02046\n"
          ]
        }
      ]
    },
    {
      "cell_type": "code",
      "source": [
        "car_features = ['Mileage', 'Cylinder', 'Liter', 'Doors', 'Cruise', 'Sound', 'Leather']"
      ],
      "metadata": {
        "id": "nU63V1-vq4sY"
      },
      "execution_count": 15,
      "outputs": []
    },
    {
      "cell_type": "code",
      "source": [
        "def lin_reg_eq(cols, df_in, focus='Price', print_this=False):\n",
        "    input_cols = df_in[cols]\n",
        "    focus_output = df_in[focus]\n",
        "    regr = linear_model.LinearRegression()\n",
        "    regr.fit(input_cols, focus_output)\n",
        "    if print_this:\n",
        "        print('The equation for columns {} w.r.t. {}:\\n'.format(cols, focus))\n",
        "        for n, x in enumerate(cols):\n",
        "            print('({} * {}) + '.format(regr.coef_[n], x))\n",
        "        print('{}'.format(regr.intercept_))\n",
        "    return regr"
      ],
      "metadata": {
        "id": "bD1hY_lyrDN6"
      },
      "execution_count": 16,
      "outputs": []
    },
    {
      "cell_type": "code",
      "source": [
        "regr_features = lin_reg_eq(car_features, df, print_this=True)"
      ],
      "metadata": {
        "id": "lcMWx0u0rLd0",
        "outputId": "cd10424d-a54a-4308-e094-7f7c96b52de3",
        "colab": {
          "base_uri": "https://localhost:8080/"
        }
      },
      "execution_count": 17,
      "outputs": [
        {
          "output_type": "stream",
          "name": "stdout",
          "text": [
            "The equation for columns ['Mileage', 'Cylinder', 'Liter', 'Doors', 'Cruise', 'Sound', 'Leather'] w.r.t. Price:\n",
            "\n",
            "(-0.16974783233303692 * Mileage) + \n",
            "(3792.378930782515 * Cylinder) + \n",
            "(-787.2207316338321 * Liter) + \n",
            "(-1542.745846382068 * Doors) + \n",
            "(6288.997149849932 * Cruise) + \n",
            "(-1993.795275698427 * Sound) + \n",
            "(3349.361619613555 * Leather) + \n",
            "6758.755143598106\n"
          ]
        }
      ]
    },
    {
      "cell_type": "code",
      "source": [
        "print('R^2: {}'\n",
        "      .format(regr_features.score(df[car_features], df['Price'])))"
      ],
      "metadata": {
        "id": "McE9xqnZrNOC",
        "outputId": "b31a2a08-8bac-48c8-bd70-2ca8547a428b",
        "colab": {
          "base_uri": "https://localhost:8080/"
        }
      },
      "execution_count": 18,
      "outputs": [
        {
          "output_type": "stream",
          "name": "stdout",
          "text": [
            "R^2: 0.4462643536728379\n"
          ]
        }
      ]
    },
    {
      "cell_type": "code",
      "source": [
        "from itertools import combinations\n",
        "def lin_reg_wrt_focus(cols, df_in, focus='Price'):\n",
        "    '''cols is a list of lists'''\n",
        "    input_cols = df_in[cols]\n",
        "    focus_output = df_in[focus]\n",
        "    regr = linear_model.LinearRegression()\n",
        "    regr.fit(input_cols, focus_output)\n",
        "    return regr.score(input_cols, focus_output)\n",
        "\n",
        "def get_combos(cols):\n",
        "    return [list(combinations(cols, n + 1)) for n in range(len(cols))]\n",
        "\n",
        "def all_combo_scores(combos, df_in, focus='Price'):\n",
        "    combo_scores = {}\n",
        "    for m in range(len(combos)):\n",
        "        for n in combos[m]:\n",
        "            combo_scores[n] = lin_reg_wrt_focus(list(n), df_in, focus)\n",
        "    return combo_scores"
      ],
      "metadata": {
        "id": "AoWhQouqrOIL"
      },
      "execution_count": 22,
      "outputs": []
    },
    {
      "cell_type": "code",
      "source": [
        "combos = get_combos(car_features)\n",
        "combo_scores = all_combo_scores(combos, df)\n",
        "score_list1 = sorted(combo_scores.items(), key=lambda c: c[1], reverse=True)\n",
        "for score in score_list1:\n",
        "    print(score[1], score[0])"
      ],
      "metadata": {
        "id": "BaXhnhM5rOph",
        "outputId": "05ace347-f754-47e1-f54b-722093547f4d",
        "colab": {
          "base_uri": "https://localhost:8080/"
        }
      },
      "execution_count": 23,
      "outputs": [
        {
          "output_type": "stream",
          "name": "stdout",
          "text": [
            "0.4462643536728379 ('Mileage', 'Cylinder', 'Liter', 'Doors', 'Cruise', 'Sound', 'Leather')\n",
            "0.44569092105870245 ('Mileage', 'Cylinder', 'Doors', 'Cruise', 'Sound', 'Leather')\n",
            "0.437805741536638 ('Mileage', 'Cylinder', 'Liter', 'Doors', 'Cruise', 'Leather')\n",
            "0.4369402151237246 ('Mileage', 'Cylinder', 'Doors', 'Cruise', 'Leather')\n",
            "0.43014148406475594 ('Mileage', 'Cylinder', 'Liter', 'Cruise', 'Sound', 'Leather')\n",
            "0.43001820483252684 ('Mileage', 'Cylinder', 'Cruise', 'Sound', 'Leather')\n",
            "0.4265348637809262 ('Cylinder', 'Liter', 'Doors', 'Cruise', 'Sound', 'Leather')\n",
            "0.4257681327974421 ('Cylinder', 'Doors', 'Cruise', 'Sound', 'Leather')\n",
            "0.42482840454267856 ('Mileage', 'Liter', 'Doors', 'Cruise', 'Sound', 'Leather')\n",
            "0.4244182401799875 ('Mileage', 'Cylinder', 'Liter', 'Doors', 'Cruise', 'Sound')\n",
            "0.42409748258510405 ('Mileage', 'Cylinder', 'Doors', 'Cruise', 'Sound')\n",
            "0.4225307670398465 ('Mileage', 'Cylinder', 'Liter', 'Cruise', 'Leather')\n",
            "0.4225074214774762 ('Mileage', 'Cylinder', 'Cruise', 'Leather')\n",
            "0.4196580477703242 ('Mileage', 'Cylinder', 'Liter', 'Doors', 'Cruise')\n",
            "0.41914964510731756 ('Mileage', 'Cylinder', 'Doors', 'Cruise')\n",
            "0.4188394218057132 ('Cylinder', 'Liter', 'Doors', 'Cruise', 'Leather')\n",
            "0.4177602737019719 ('Cylinder', 'Doors', 'Cruise', 'Leather')\n",
            "0.41650804904235117 ('Mileage', 'Liter', 'Cruise', 'Sound', 'Leather')\n",
            "0.414009223163035 ('Mileage', 'Liter', 'Doors', 'Cruise', 'Leather')\n",
            "0.4107029526441044 ('Cylinder', 'Liter', 'Cruise', 'Sound', 'Leather')\n",
            "0.41065494158588833 ('Cylinder', 'Cruise', 'Sound', 'Leather')\n",
            "0.40678789687026895 ('Mileage', 'Liter', 'Cruise', 'Leather')\n",
            "0.40654915865835173 ('Mileage', 'Cylinder', 'Liter', 'Cruise', 'Sound')\n",
            "0.4061644982625815 ('Mileage', 'Cylinder', 'Cruise', 'Sound')\n",
            "0.4050927515057854 ('Cylinder', 'Liter', 'Doors', 'Cruise', 'Sound')\n",
            "0.40462307098659855 ('Cylinder', 'Doors', 'Cruise', 'Sound')\n",
            "0.40380376425767606 ('Cylinder', 'Liter', 'Cruise', 'Leather')\n",
            "0.40380272693971553 ('Cylinder', 'Cruise', 'Leather')\n",
            "0.40346337208358063 ('Liter', 'Doors', 'Cruise', 'Sound', 'Leather')\n",
            "0.4031213170211536 ('Mileage', 'Liter', 'Doors', 'Cruise', 'Sound')\n",
            "0.4025842618924307 ('Mileage', 'Cylinder', 'Liter', 'Cruise')\n",
            "0.4023745860316019 ('Mileage', 'Cylinder', 'Cruise')\n",
            "0.40087486932703054 ('Cylinder', 'Liter', 'Doors', 'Cruise')\n",
            "0.4001989079545568 ('Cylinder', 'Doors', 'Cruise')\n",
            "0.39653266980131796 ('Mileage', 'Liter', 'Doors', 'Cruise')\n",
            "0.39564260736568424 ('Liter', 'Cruise', 'Sound', 'Leather')\n",
            "0.39346849142215845 ('Mileage', 'Liter', 'Cruise', 'Sound')\n",
            "0.39345887351036213 ('Liter', 'Doors', 'Cruise', 'Leather')\n",
            "0.38792398390551597 ('Mileage', 'Liter', 'Cruise')\n",
            "0.38754312167360194 ('Cylinder', 'Liter', 'Cruise', 'Sound')\n",
            "0.3873058022296456 ('Cylinder', 'Cruise', 'Sound')\n",
            "0.38665505937731115 ('Liter', 'Cruise', 'Leather')\n",
            "0.3840622008524506 ('Cylinder', 'Liter', 'Cruise')\n",
            "0.3839491324027344 ('Cylinder', 'Cruise')\n",
            "0.382715045002158 ('Mileage', 'Cylinder', 'Liter', 'Doors', 'Sound', 'Leather')\n",
            "0.38258521179336924 ('Mileage', 'Cylinder', 'Doors', 'Sound', 'Leather')\n",
            "0.38218087776588217 ('Liter', 'Doors', 'Cruise', 'Sound')\n",
            "0.3761916805347969 ('Liter', 'Doors', 'Cruise')\n",
            "0.3730745596141458 ('Liter', 'Cruise', 'Sound')\n",
            "0.37136690890240676 ('Mileage', 'Cylinder', 'Liter', 'Doors', 'Leather')\n",
            "0.37133199838451947 ('Mileage', 'Cylinder', 'Doors', 'Leather')\n",
            "0.3680458490296844 ('Liter', 'Cruise')\n",
            "0.36771522262682854 ('Mileage', 'Cylinder', 'Liter', 'Doors', 'Sound')\n",
            "0.3674991296973681 ('Mileage', 'Cylinder', 'Doors', 'Sound')\n",
            "0.365294232839972 ('Mileage', 'Cylinder', 'Liter', 'Sound', 'Leather')\n",
            "0.36516944395094464 ('Cylinder', 'Liter', 'Doors', 'Sound', 'Leather')\n",
            "0.36511700356207033 ('Cylinder', 'Doors', 'Sound', 'Leather')\n",
            "0.36329101174690714 ('Mileage', 'Liter', 'Doors', 'Sound', 'Leather')\n",
            "0.3627841037859246 ('Mileage', 'Cylinder', 'Sound', 'Leather')\n",
            "0.3601250633027092 ('Mileage', 'Cylinder', 'Liter', 'Doors')\n",
            "0.3600299189649303 ('Mileage', 'Cylinder', 'Doors')\n",
            "0.354940443055751 ('Mileage', 'Cylinder', 'Liter', 'Leather')\n",
            "0.3547068894092531 ('Cylinder', 'Liter', 'Doors', 'Leather')\n",
            "0.3547026130008998 ('Cylinder', 'Doors', 'Leather')\n",
            "0.35363153818528137 ('Mileage', 'Liter', 'Sound', 'Leather')\n",
            "0.35303578931823965 ('Mileage', 'Cylinder', 'Leather')\n",
            "0.35038121816111256 ('Cylinder', 'Liter', 'Doors', 'Sound')\n",
            "0.3502699330133767 ('Cylinder', 'Doors', 'Sound')\n",
            "0.34940517971815865 ('Mileage', 'Liter', 'Doors', 'Leather')\n",
            "0.34885465224422074 ('Mileage', 'Cylinder', 'Liter', 'Sound')\n",
            "0.34830222786670784 ('Mileage', 'Liter', 'Doors', 'Sound')\n",
            "0.34805583937456297 ('Cylinder', 'Liter', 'Sound', 'Leather')\n",
            "0.3459853327541679 ('Cylinder', 'Sound', 'Leather')\n",
            "0.34579303945195394 ('Mileage', 'Cylinder', 'Sound')\n",
            "0.3442397580756411 ('Liter', 'Doors', 'Sound', 'Leather')\n",
            "0.3434954780689595 ('Cylinder', 'Liter', 'Doors')\n",
            "0.343460536583038 ('Cylinder', 'Doors')\n",
            "0.34228021178720824 ('Mileage', 'Cylinder', 'Liter')\n",
            "0.34105691618639955 ('Mileage', 'Liter', 'Leather')\n",
            "0.33982070826367505 ('Mileage', 'Cylinder')\n",
            "0.33859102766485816 ('Mileage', 'Liter', 'Doors')\n",
            "0.33853269361625415 ('Cylinder', 'Liter', 'Leather')\n",
            "0.3375252452641955 ('Mileage', 'Liter', 'Sound')\n",
            "0.33698000644980597 ('Cylinder', 'Leather')\n",
            "0.33511407076463473 ('Liter', 'Sound', 'Leather')\n",
            "0.3318486045315714 ('Cylinder', 'Liter', 'Sound')\n",
            "0.3312844538529036 ('Liter', 'Doors', 'Leather')\n",
            "0.32947196699054004 ('Liter', 'Doors', 'Sound')\n",
            "0.32927527347959384 ('Cylinder', 'Sound')\n",
            "0.3291279066854156 ('Mileage', 'Liter')\n",
            "0.32591551601566593 ('Cylinder', 'Liter')\n",
            "0.32385903759512247 ('Cylinder',)\n",
            "0.32337917189904186 ('Liter', 'Leather')\n",
            "0.32051564077668315 ('Liter', 'Doors')\n",
            "0.31926427639502897 ('Liter', 'Sound')\n",
            "0.31152674427904503 ('Liter',)\n",
            "0.272825947675678 ('Mileage', 'Doors', 'Cruise', 'Sound', 'Leather')\n",
            "0.2594013856567562 ('Mileage', 'Cruise', 'Sound', 'Leather')\n",
            "0.2566547812611919 ('Mileage', 'Doors', 'Cruise', 'Leather')\n",
            "0.24744913495807552 ('Doors', 'Cruise', 'Sound', 'Leather')\n",
            "0.24484643441472986 ('Mileage', 'Cruise', 'Leather')\n",
            "0.23464406340531807 ('Cruise', 'Sound', 'Leather')\n",
            "0.23336920288580454 ('Mileage', 'Doors', 'Cruise', 'Sound')\n",
            "0.23229120295179528 ('Doors', 'Cruise', 'Leather')\n",
            "0.2239031407636466 ('Mileage', 'Doors', 'Cruise')\n",
            "0.2210042052179847 ('Cruise', 'Leather')\n",
            "0.21721656906779274 ('Mileage', 'Cruise', 'Sound')\n",
            "0.2093138558315859 ('Mileage', 'Cruise')\n",
            "0.2083536888853531 ('Doors', 'Cruise', 'Sound')\n",
            "0.1996382468921617 ('Doors', 'Cruise')\n",
            "0.19288948066869627 ('Cruise', 'Sound')\n",
            "0.1856330092969276 ('Cruise',)\n",
            "0.08933709379370725 ('Mileage', 'Doors', 'Sound', 'Leather')\n",
            "0.06965940622436506 ('Mileage', 'Sound', 'Leather')\n",
            "0.06687313316188848 ('Doors', 'Sound', 'Leather')\n",
            "0.06256392121987697 ('Mileage', 'Doors', 'Leather')\n",
            "0.05925054392042661 ('Mileage', 'Doors', 'Sound')\n",
            "0.04795369092082724 ('Sound', 'Leather')\n",
            "0.04521956340886857 ('Mileage', 'Leather')\n",
            "0.04141817346866039 ('Doors', 'Leather')\n",
            "0.04039914867118721 ('Mileage', 'Doors')\n",
            "0.03701628770903431 ('Doors', 'Sound')\n",
            "0.03688121596735017 ('Mileage', 'Sound')\n",
            "0.024710851264124534 ('Leather',)\n",
            "0.02046344732348926 ('Mileage',)\n",
            "0.019251466591467037 ('Doors',)\n",
            "0.015462387624189389 ('Sound',)\n"
          ]
        }
      ]
    },
    {
      "cell_type": "markdown",
      "source": [
        "**Cylinder has high score on its own: 0.32385903759512247**"
      ],
      "metadata": {
        "id": "Kgc2fFYzs6EG"
      }
    },
    {
      "cell_type": "code",
      "source": [
        "df_mmt = df.copy()\n",
        "\n",
        "df_make = pd.get_dummies(df['Make'])\n",
        "df_mmt[list(df_make.columns)] = df_make\n",
        "df_mmt.pop('Make')\n",
        "\n",
        "df_model = pd.get_dummies(df['Model'])\n",
        "df_mmt[list(df_model.columns)] = df_model\n",
        "df_mmt.pop('Model')\n",
        "\n",
        "df_type = pd.get_dummies(df['Type'])\n",
        "df_mmt[list(df_type.columns)] = df_type\n",
        "df_mmt.pop('Type')\n",
        "\n",
        "pd.set_option('display.max_columns', None)\n",
        "df_mmt.head(1)"
      ],
      "metadata": {
        "id": "23OidLKBrO8n",
        "outputId": "b556cf9b-7e81-49ed-ea43-c85fdbb8d175",
        "colab": {
          "base_uri": "https://localhost:8080/",
          "height": 197
        }
      },
      "execution_count": 24,
      "outputs": [
        {
          "output_type": "execute_result",
          "data": {
            "text/plain": [
              "          Price  Mileage      Trim  Cylinder  Liter  Doors  Cruise  Sound  \\\n",
              "0  17314.103129     8221  Sedan 4D         6    3.1      4       1      1   \n",
              "\n",
              "   Leather  Buick  Cadillac  Chevrolet  Pontiac  SAAB  Saturn  9-2X AWD  9_3  \\\n",
              "0        1      1         0          0        0     0       0         0    0   \n",
              "\n",
              "   9_3 HO  9_5  9_5 HO  AVEO  Bonneville  CST-V  CTS  Cavalier  Century  \\\n",
              "0       0    0       0     0           0      0    0         0        1   \n",
              "\n",
              "   Classic  Cobalt  Corvette  Deville  G6  GTO  Grand Am  Grand Prix  Impala  \\\n",
              "0        0       0         0        0   0    0         0           0       0   \n",
              "\n",
              "   Ion  L Series  Lacrosse  Lesabre  Malibu  Monte Carlo  Park Avenue  STS-V6  \\\n",
              "0    0         0         0        0       0            0            0       0   \n",
              "\n",
              "   STS-V8  Sunfire  Vibe  XLR-V8  Convertible  Coupe  Hatchback  Sedan  Wagon  \n",
              "0       0        0     0       0            0      0          0      1      0  "
            ],
            "text/html": [
              "\n",
              "  <div id=\"df-7b6cb451-f5e1-4adb-b5b7-dadd89bc1c4f\">\n",
              "    <div class=\"colab-df-container\">\n",
              "      <div>\n",
              "<style scoped>\n",
              "    .dataframe tbody tr th:only-of-type {\n",
              "        vertical-align: middle;\n",
              "    }\n",
              "\n",
              "    .dataframe tbody tr th {\n",
              "        vertical-align: top;\n",
              "    }\n",
              "\n",
              "    .dataframe thead th {\n",
              "        text-align: right;\n",
              "    }\n",
              "</style>\n",
              "<table border=\"1\" class=\"dataframe\">\n",
              "  <thead>\n",
              "    <tr style=\"text-align: right;\">\n",
              "      <th></th>\n",
              "      <th>Price</th>\n",
              "      <th>Mileage</th>\n",
              "      <th>Trim</th>\n",
              "      <th>Cylinder</th>\n",
              "      <th>Liter</th>\n",
              "      <th>Doors</th>\n",
              "      <th>Cruise</th>\n",
              "      <th>Sound</th>\n",
              "      <th>Leather</th>\n",
              "      <th>Buick</th>\n",
              "      <th>Cadillac</th>\n",
              "      <th>Chevrolet</th>\n",
              "      <th>Pontiac</th>\n",
              "      <th>SAAB</th>\n",
              "      <th>Saturn</th>\n",
              "      <th>9-2X AWD</th>\n",
              "      <th>9_3</th>\n",
              "      <th>9_3 HO</th>\n",
              "      <th>9_5</th>\n",
              "      <th>9_5 HO</th>\n",
              "      <th>AVEO</th>\n",
              "      <th>Bonneville</th>\n",
              "      <th>CST-V</th>\n",
              "      <th>CTS</th>\n",
              "      <th>Cavalier</th>\n",
              "      <th>Century</th>\n",
              "      <th>Classic</th>\n",
              "      <th>Cobalt</th>\n",
              "      <th>Corvette</th>\n",
              "      <th>Deville</th>\n",
              "      <th>G6</th>\n",
              "      <th>GTO</th>\n",
              "      <th>Grand Am</th>\n",
              "      <th>Grand Prix</th>\n",
              "      <th>Impala</th>\n",
              "      <th>Ion</th>\n",
              "      <th>L Series</th>\n",
              "      <th>Lacrosse</th>\n",
              "      <th>Lesabre</th>\n",
              "      <th>Malibu</th>\n",
              "      <th>Monte Carlo</th>\n",
              "      <th>Park Avenue</th>\n",
              "      <th>STS-V6</th>\n",
              "      <th>STS-V8</th>\n",
              "      <th>Sunfire</th>\n",
              "      <th>Vibe</th>\n",
              "      <th>XLR-V8</th>\n",
              "      <th>Convertible</th>\n",
              "      <th>Coupe</th>\n",
              "      <th>Hatchback</th>\n",
              "      <th>Sedan</th>\n",
              "      <th>Wagon</th>\n",
              "    </tr>\n",
              "  </thead>\n",
              "  <tbody>\n",
              "    <tr>\n",
              "      <th>0</th>\n",
              "      <td>17314.103129</td>\n",
              "      <td>8221</td>\n",
              "      <td>Sedan 4D</td>\n",
              "      <td>6</td>\n",
              "      <td>3.1</td>\n",
              "      <td>4</td>\n",
              "      <td>1</td>\n",
              "      <td>1</td>\n",
              "      <td>1</td>\n",
              "      <td>1</td>\n",
              "      <td>0</td>\n",
              "      <td>0</td>\n",
              "      <td>0</td>\n",
              "      <td>0</td>\n",
              "      <td>0</td>\n",
              "      <td>0</td>\n",
              "      <td>0</td>\n",
              "      <td>0</td>\n",
              "      <td>0</td>\n",
              "      <td>0</td>\n",
              "      <td>0</td>\n",
              "      <td>0</td>\n",
              "      <td>0</td>\n",
              "      <td>0</td>\n",
              "      <td>0</td>\n",
              "      <td>1</td>\n",
              "      <td>0</td>\n",
              "      <td>0</td>\n",
              "      <td>0</td>\n",
              "      <td>0</td>\n",
              "      <td>0</td>\n",
              "      <td>0</td>\n",
              "      <td>0</td>\n",
              "      <td>0</td>\n",
              "      <td>0</td>\n",
              "      <td>0</td>\n",
              "      <td>0</td>\n",
              "      <td>0</td>\n",
              "      <td>0</td>\n",
              "      <td>0</td>\n",
              "      <td>0</td>\n",
              "      <td>0</td>\n",
              "      <td>0</td>\n",
              "      <td>0</td>\n",
              "      <td>0</td>\n",
              "      <td>0</td>\n",
              "      <td>0</td>\n",
              "      <td>0</td>\n",
              "      <td>0</td>\n",
              "      <td>0</td>\n",
              "      <td>1</td>\n",
              "      <td>0</td>\n",
              "    </tr>\n",
              "  </tbody>\n",
              "</table>\n",
              "</div>\n",
              "      <button class=\"colab-df-convert\" onclick=\"convertToInteractive('df-7b6cb451-f5e1-4adb-b5b7-dadd89bc1c4f')\"\n",
              "              title=\"Convert this dataframe to an interactive table.\"\n",
              "              style=\"display:none;\">\n",
              "        \n",
              "  <svg xmlns=\"http://www.w3.org/2000/svg\" height=\"24px\"viewBox=\"0 0 24 24\"\n",
              "       width=\"24px\">\n",
              "    <path d=\"M0 0h24v24H0V0z\" fill=\"none\"/>\n",
              "    <path d=\"M18.56 5.44l.94 2.06.94-2.06 2.06-.94-2.06-.94-.94-2.06-.94 2.06-2.06.94zm-11 1L8.5 8.5l.94-2.06 2.06-.94-2.06-.94L8.5 2.5l-.94 2.06-2.06.94zm10 10l.94 2.06.94-2.06 2.06-.94-2.06-.94-.94-2.06-.94 2.06-2.06.94z\"/><path d=\"M17.41 7.96l-1.37-1.37c-.4-.4-.92-.59-1.43-.59-.52 0-1.04.2-1.43.59L10.3 9.45l-7.72 7.72c-.78.78-.78 2.05 0 2.83L4 21.41c.39.39.9.59 1.41.59.51 0 1.02-.2 1.41-.59l7.78-7.78 2.81-2.81c.8-.78.8-2.07 0-2.86zM5.41 20L4 18.59l7.72-7.72 1.47 1.35L5.41 20z\"/>\n",
              "  </svg>\n",
              "      </button>\n",
              "      \n",
              "  <style>\n",
              "    .colab-df-container {\n",
              "      display:flex;\n",
              "      flex-wrap:wrap;\n",
              "      gap: 12px;\n",
              "    }\n",
              "\n",
              "    .colab-df-convert {\n",
              "      background-color: #E8F0FE;\n",
              "      border: none;\n",
              "      border-radius: 50%;\n",
              "      cursor: pointer;\n",
              "      display: none;\n",
              "      fill: #1967D2;\n",
              "      height: 32px;\n",
              "      padding: 0 0 0 0;\n",
              "      width: 32px;\n",
              "    }\n",
              "\n",
              "    .colab-df-convert:hover {\n",
              "      background-color: #E2EBFA;\n",
              "      box-shadow: 0px 1px 2px rgba(60, 64, 67, 0.3), 0px 1px 3px 1px rgba(60, 64, 67, 0.15);\n",
              "      fill: #174EA6;\n",
              "    }\n",
              "\n",
              "    [theme=dark] .colab-df-convert {\n",
              "      background-color: #3B4455;\n",
              "      fill: #D2E3FC;\n",
              "    }\n",
              "\n",
              "    [theme=dark] .colab-df-convert:hover {\n",
              "      background-color: #434B5C;\n",
              "      box-shadow: 0px 1px 3px 1px rgba(0, 0, 0, 0.15);\n",
              "      filter: drop-shadow(0px 1px 2px rgba(0, 0, 0, 0.3));\n",
              "      fill: #FFFFFF;\n",
              "    }\n",
              "  </style>\n",
              "\n",
              "      <script>\n",
              "        const buttonEl =\n",
              "          document.querySelector('#df-7b6cb451-f5e1-4adb-b5b7-dadd89bc1c4f button.colab-df-convert');\n",
              "        buttonEl.style.display =\n",
              "          google.colab.kernel.accessAllowed ? 'block' : 'none';\n",
              "\n",
              "        async function convertToInteractive(key) {\n",
              "          const element = document.querySelector('#df-7b6cb451-f5e1-4adb-b5b7-dadd89bc1c4f');\n",
              "          const dataTable =\n",
              "            await google.colab.kernel.invokeFunction('convertToInteractive',\n",
              "                                                     [key], {});\n",
              "          if (!dataTable) return;\n",
              "\n",
              "          const docLinkHtml = 'Like what you see? Visit the ' +\n",
              "            '<a target=\"_blank\" href=https://colab.research.google.com/notebooks/data_table.ipynb>data table notebook</a>'\n",
              "            + ' to learn more about interactive tables.';\n",
              "          element.innerHTML = '';\n",
              "          dataTable['output_type'] = 'display_data';\n",
              "          await google.colab.output.renderOutput(dataTable, element);\n",
              "          const docLink = document.createElement('div');\n",
              "          docLink.innerHTML = docLinkHtml;\n",
              "          element.appendChild(docLink);\n",
              "        }\n",
              "      </script>\n",
              "    </div>\n",
              "  </div>\n",
              "  "
            ]
          },
          "metadata": {},
          "execution_count": 24
        }
      ]
    },
    {
      "cell_type": "code",
      "source": [
        "columns = list(df_make.columns)\n",
        "columns.extend(df_model.columns)\n",
        "columns.extend(df_type.columns)\n",
        "input_cols = []\n",
        "for item in columns:\n",
        "    input_cols.append([item])\n",
        "input_cols[:3]"
      ],
      "metadata": {
        "id": "QgLgEmCVtnLd",
        "outputId": "1ba66db5-2c03-44a3-aee3-f1da6d0fcc35",
        "colab": {
          "base_uri": "https://localhost:8080/"
        }
      },
      "execution_count": 25,
      "outputs": [
        {
          "output_type": "execute_result",
          "data": {
            "text/plain": [
              "[['Buick'], ['Cadillac'], ['Chevrolet']]"
            ]
          },
          "metadata": {},
          "execution_count": 25
        }
      ]
    },
    {
      "cell_type": "code",
      "source": [
        "combo_twos = list(combinations(car_features, 2))\n",
        "combo_twos_list = [[x[0], x[1]] for x in combo_twos]\n",
        "combo_twos_list[:3]"
      ],
      "metadata": {
        "id": "sLbOCPuPtned",
        "outputId": "a44eb1db-fa6d-48c3-fec8-738c7372d632",
        "colab": {
          "base_uri": "https://localhost:8080/"
        }
      },
      "execution_count": 26,
      "outputs": [
        {
          "output_type": "execute_result",
          "data": {
            "text/plain": [
              "[['Mileage', 'Cylinder'], ['Mileage', 'Liter'], ['Mileage', 'Doors']]"
            ]
          },
          "metadata": {},
          "execution_count": 26
        }
      ]
    },
    {
      "cell_type": "code",
      "source": [
        "def all_combos_plus_scores(combos, combo_addition, df_in, focus='Price'):\n",
        "    scores = {}\n",
        "    for c_a in combo_addition:\n",
        "        combos_c = deepcopy(combos)\n",
        "        for cb in combos_c:\n",
        "            cb.extend(c_a)\n",
        "            scores[(cb[0], cb[1], cb[2])] = lin_reg_wrt_focus(cb, df_in, focus)\n",
        "    return scores"
      ],
      "metadata": {
        "id": "gwMBFYI6tn0t"
      },
      "execution_count": 27,
      "outputs": []
    },
    {
      "cell_type": "code",
      "source": [
        "from copy import deepcopy\n",
        "car_data_combos = all_combos_plus_scores(combo_twos_list, input_cols, df_mmt)\n",
        "car_data_combos_list = sorted(car_data_combos.items(), key=lambda c: c[1], reverse=True)\n",
        "max_dict = {}\n",
        "for score_ in car_data_combos_list:\n",
        "    try:\n",
        "        max_dict[score_[0][2]]\n",
        "    except:\n",
        "        max_dict[score_[0][2]] = score_[1]\n",
        "        print(score_[1], score_[0])"
      ],
      "metadata": {
        "id": "tX7Ty7HMtoPZ",
        "outputId": "b0722ee3-669b-4bb0-d95d-0f37e017f517",
        "colab": {
          "base_uri": "https://localhost:8080/"
        }
      },
      "execution_count": 29,
      "outputs": [
        {
          "output_type": "stream",
          "name": "stdout",
          "text": [
            "0.6952326188089184 ('Mileage', 'Cylinder', 'SAAB')\n",
            "0.5827463723115367 ('Liter', 'Cruise', 'Cadillac')\n",
            "0.5818864330871814 ('Cylinder', 'Cruise', 'Convertible')\n",
            "0.5565646069943804 ('Cylinder', 'Doors', 'Coupe')\n",
            "0.5183767328460664 ('Liter', 'Cruise', 'XLR-V8')\n",
            "0.467700799707776 ('Cylinder', 'Cruise', '9_3 HO')\n",
            "0.46131412749530276 ('Cylinder', 'Doors', 'Chevrolet')\n",
            "0.4403137783141914 ('Cylinder', 'Cruise', '9_5')\n",
            "0.42327964442945476 ('Cylinder', 'Cruise', 'Pontiac')\n",
            "0.4209127935020318 ('Cylinder', 'Cruise', 'Wagon')\n",
            "0.41425766320268764 ('Cylinder', 'Cruise', '9_3')\n",
            "0.409490813455742 ('Cylinder', 'Cruise', '9_5 HO')\n",
            "0.40853637029735634 ('Cylinder', 'Cruise', 'Sedan')\n",
            "0.40801434993536756 ('Cylinder', 'Cruise', 'Buick')\n",
            "0.4066332114627611 ('Cylinder', 'Cruise', 'CST-V')\n",
            "0.4061981380211487 ('Cylinder', 'Cruise', 'Grand Prix')\n",
            "0.4039216683852761 ('Cylinder', 'Cruise', 'Malibu')\n",
            "0.4028424051921041 ('Cylinder', 'Cruise', 'STS-V6')\n",
            "0.40241000428897733 ('Cylinder', 'Cruise', 'Bonneville')\n",
            "0.4000437244670154 ('Cylinder', 'Cruise', 'STS-V8')\n",
            "0.398421412936275 ('Cylinder', 'Cruise', 'Corvette')\n",
            "0.3983887187658711 ('Cylinder', 'Cruise', 'AVEO')\n",
            "0.3971171080018443 ('Cylinder', 'Cruise', 'Hatchback')\n",
            "0.39603239888509245 ('Cylinder', 'Cruise', 'Monte Carlo')\n",
            "0.3956764388041559 ('Cylinder', 'Cruise', 'Impala')\n",
            "0.3952228755517404 ('Cylinder', 'Cruise', 'Century')\n",
            "0.39390560365869576 ('Cylinder', 'Cruise', 'L Series')\n",
            "0.39279238337721234 ('Cylinder', 'Cruise', 'Cavalier')\n",
            "0.39246844285202553 ('Cylinder', 'Cruise', 'Lesabre')\n",
            "0.39241204113961736 ('Cylinder', 'Cruise', 'G6')\n",
            "0.39198203662200237 ('Cylinder', 'Cruise', 'Deville')\n",
            "0.3911870776515759 ('Cylinder', 'Cruise', 'Lacrosse')\n",
            "0.3888935871374647 ('Cylinder', 'Cruise', 'Saturn')\n",
            "0.3873857443756109 ('Cylinder', 'Cruise', 'CTS')\n",
            "0.3860906791282612 ('Cylinder', 'Cruise', '9-2X AWD')\n",
            "0.38558472813361133 ('Cylinder', 'Cruise', 'Sunfire')\n",
            "0.38553761936177566 ('Cylinder', 'Cruise', 'Grand Am')\n",
            "0.3854757724638267 ('Cylinder', 'Cruise', 'Cobalt')\n",
            "0.3851417642289876 ('Cylinder', 'Cruise', 'GTO')\n",
            "0.38484791198079804 ('Cylinder', 'Cruise', 'Ion')\n",
            "0.38472021078824337 ('Cylinder', 'Cruise', 'Vibe')\n",
            "0.3844335361243536 ('Cylinder', 'Cruise', 'Classic')\n",
            "0.3843919122029714 ('Cylinder', 'Cruise', 'Park Avenue')\n"
          ]
        }
      ]
    },
    {
      "cell_type": "code",
      "source": [
        "car_data_2 = {}\n",
        "for item in deepcopy(input_cols):\n",
        "    car_data_2[item[0]] = lin_reg_wrt_focus(item, df_mmt)\n",
        "\n",
        "score_list2 = sorted(car_data_2.items(), key=lambda c: c[1], reverse=True)\n",
        "for score in score_list2:\n",
        "    print(score[1], score[0])"
      ],
      "metadata": {
        "id": "cS2s6Ta5toma",
        "outputId": "4e24c0cc-ccaa-4119-a82d-5bb6f3a5377d",
        "colab": {
          "base_uri": "https://localhost:8080/"
        }
      },
      "execution_count": 30,
      "outputs": [
        {
          "output_type": "stream",
          "name": "stdout",
          "text": [
            "0.43467222055774146 Cadillac\n",
            "0.2580823726662361 Convertible\n",
            "0.22329254532193288 XLR-V8\n",
            "0.16369972777296582 Chevrolet\n",
            "0.11249608486981633 SAAB\n",
            "0.09268208373129971 AVEO\n",
            "0.08811897712425065 Deville\n",
            "0.08294059063514281 Corvette\n",
            "0.07236606185907579 CST-V\n",
            "0.060443061923161845 STS-V8\n",
            "0.059386315780149745 Cavalier\n",
            "0.04481729286980152 Saturn\n",
            "0.044294927303921816 9_3 HO\n",
            "0.042509414286992286 Hatchback\n",
            "0.04218076819132699 Ion\n",
            "0.03711188670126875 Cobalt\n",
            "0.0331684123827396 STS-V6\n",
            "0.02992939459223687 9_5\n",
            "0.028253210000207085 Coupe\n",
            "0.020191011838045725 Pontiac\n",
            "0.01551727999156971 9_3\n",
            "0.01441266225511073 Malibu\n",
            "0.012235997496740647 9_5 HO\n",
            "0.011848005294655573 Vibe\n",
            "0.010715368384112356 CTS\n",
            "0.00990383596925093 Sunfire\n",
            "0.008683138908399224 Grand Am\n",
            "0.007825848896145682 GTO\n",
            "0.007741907120061953 Classic\n",
            "0.004735027107433676 Grand Prix\n",
            "0.003698911729677512 Century\n",
            "0.0029638255654020895 L Series\n",
            "0.0020370652981834825 Wagon\n",
            "0.001866756188844798 Park Avenue\n",
            "0.001211196934485459 Sedan\n",
            "0.0008950546441520713 Monte Carlo\n",
            "0.0008009183526633823 Impala\n",
            "0.00076410284018813 Lesabre\n",
            "0.0007473731721009402 G6\n",
            "0.0006705949575458447 9-2X AWD\n",
            "0.0003156955904867198 Buick\n",
            "7.927732740453663e-05 Bonneville\n",
            "2.795124819021666e-05 Lacrosse\n"
          ]
        }
      ]
    },
    {
      "cell_type": "code",
      "source": [
        "adjusted_car_features = car_features + ['Cadillac', 'Convertible', 'Chevrolet']\n",
        "lin_reg_wrt_focus(adjusted_car_features, df_mmt)"
      ],
      "metadata": {
        "id": "8JaXeJIytpCD",
        "outputId": "fc11a5aa-48eb-47c4-b9c6-e80c88298907",
        "colab": {
          "base_uri": "https://localhost:8080/"
        }
      },
      "execution_count": 31,
      "outputs": [
        {
          "output_type": "execute_result",
          "data": {
            "text/plain": [
              "0.8301641680699673"
            ]
          },
          "metadata": {},
          "execution_count": 31
        }
      ]
    },
    {
      "cell_type": "code",
      "source": [
        "adjusted_car_features_2 = ['Cadillac', 'Convertible', 'Chevrolet', 'Mileage', 'Cylinder', 'Cruise', 'Liter']\n",
        "lin_reg_wrt_focus(adjusted_car_features_2, df_mmt)"
      ],
      "metadata": {
        "id": "ZUEnpW2YubI0",
        "outputId": "13a9380c-36d4-4536-d753-5252495a8a0a",
        "colab": {
          "base_uri": "https://localhost:8080/"
        }
      },
      "execution_count": 32,
      "outputs": [
        {
          "output_type": "execute_result",
          "data": {
            "text/plain": [
              "0.8230830294947846"
            ]
          },
          "metadata": {},
          "execution_count": 32
        }
      ]
    }
  ],
  "metadata": {
    "kernelspec": {
      "display_name": "Python 3",
      "language": "python",
      "name": "python3"
    },
    "language_info": {
      "codemirror_mode": {
        "name": "ipython",
        "version": 3
      },
      "file_extension": ".py",
      "mimetype": "text/x-python",
      "name": "python",
      "nbconvert_exporter": "python",
      "pygments_lexer": "ipython3",
      "version": "3.8.3"
    },
    "colab": {
      "provenance": []
    }
  },
  "nbformat": 4,
  "nbformat_minor": 0
}